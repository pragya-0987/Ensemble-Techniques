{
  "cells": [
    {
      "cell_type": "markdown",
      "id": "62f05a0c-a5b9-4057-be57-bbc9e7c56e55",
      "metadata": {
        "id": "62f05a0c-a5b9-4057-be57-bbc9e7c56e55"
      },
      "source": [
        "# Theory"
      ]
    },
    {
      "cell_type": "code",
      "execution_count": null,
      "id": "4e0a8c30-e635-401e-ba86-9190d5cf348e",
      "metadata": {
        "id": "4e0a8c30-e635-401e-ba86-9190d5cf348e"
      },
      "outputs": [],
      "source": [
        "#Q1. Can we use Bagging for regression problems?\n",
        "\n",
        "# Yes, Bagging can be used for regression problems.\n",
        "# A Bagging Regressor is an ensemble method that aggregates predictions from multiple base regressors (e.g., Decision Trees) to reduce variance and improve accuracy.\n"
      ]
    },
    {
      "cell_type": "code",
      "execution_count": null,
      "id": "365e80c5-4141-42eb-85ef-c9d09b473b7c",
      "metadata": {
        "id": "365e80c5-4141-42eb-85ef-c9d09b473b7c"
      },
      "outputs": [],
      "source": [
        "#Q2. **What is the difference between multiple model training and single model training?**\n",
        "\n",
        "# - Single model training involves training a single predictive model on the dataset.\n",
        "# - Multiple model training (ensemble learning) combines multiple models to make predictions, improving robustness, accuracy, and reducing overfitting.\n"
      ]
    },
    {
      "cell_type": "code",
      "execution_count": null,
      "id": "858a5af5-ffe7-4e5b-8dea-d90d135d0f35",
      "metadata": {
        "id": "858a5af5-ffe7-4e5b-8dea-d90d135d0f35"
      },
      "outputs": [],
      "source": [
        "#Q3. Explain the concept of feature randomness in Random Forest.\n",
        "\n",
        "\n",
        "# In Random Forest, feature randomness means that at each split in a Decision Tree, only a random subset of features is considered rather than the entire feature set.\n",
        "# This increases diversity among trees and reduces correlation, improving generalization.\n"
      ]
    },
    {
      "cell_type": "code",
      "execution_count": null,
      "id": "27268ab8-ca01-4747-bc08-ca43029aacd0",
      "metadata": {
        "id": "27268ab8-ca01-4747-bc08-ca43029aacd0"
      },
      "outputs": [],
      "source": [
        "#Q4. What is OOB (Out-of-Bag) Score?\n",
        "\n",
        "\n",
        "# The OOB score is an internal validation metric in Bagging-based models like Random Forest.\n",
        "# Since each tree in the ensemble is trained using bootstrap samples, the data points not included in a tree (out-of-bag samples) are used to evaluate the model’s performance.\n"
      ]
    },
    {
      "cell_type": "code",
      "execution_count": null,
      "id": "690bd525-0b8c-4545-bace-3a57071fa7bc",
      "metadata": {
        "id": "690bd525-0b8c-4545-bace-3a57071fa7bc"
      },
      "outputs": [],
      "source": [
        "#Q5. How can you measure the importance of features in a Random Forest model?\n",
        "\n",
        "\n",
        "# Feature importance in a Random Forest can be measured using:\n",
        "#    - Gini importance (decrease in impurity)\n",
        "#    - Permutation importance (change in accuracy when a feature is shuffled)\n"
      ]
    },
    {
      "cell_type": "code",
      "execution_count": null,
      "id": "f19b5a92-b2cd-4949-9404-2f54ad615f7e",
      "metadata": {
        "id": "f19b5a92-b2cd-4949-9404-2f54ad615f7e"
      },
      "outputs": [],
      "source": [
        "#Q6. Explain the working principle of a Bagging Classifier.\n",
        "\n",
        "\n",
        "# A Bagging Classifier creates multiple subsets of the training data using bootstrap sampling,\n",
        "# trains a separate model on each subset, and aggregates their predictions (e.g., majority voting for classification).\n"
      ]
    },
    {
      "cell_type": "code",
      "execution_count": null,
      "id": "c032a157-7c42-4bee-ad36-f312f375dce7",
      "metadata": {
        "id": "c032a157-7c42-4bee-ad36-f312f375dce7"
      },
      "outputs": [],
      "source": [
        "#Q7. How do you evaluate a Bagging Classifier’s performance?\n",
        "\n",
        "# It can be evaluated using metrics like accuracy, precision, recall, F1-score, AUC-ROC, and cross-validation.\n"
      ]
    },
    {
      "cell_type": "code",
      "execution_count": null,
      "id": "154b0e94-4ba2-440a-9b3d-55d5f5bd011a",
      "metadata": {
        "id": "154b0e94-4ba2-440a-9b3d-55d5f5bd011a"
      },
      "outputs": [],
      "source": [
        "#Q8. How does a Bagging Regressor work?\n",
        "\n",
        "# A Bagging Regressor trains multiple regression models on bootstrap samples and averages their predictions to reduce variance and improve accuracy.\n"
      ]
    },
    {
      "cell_type": "code",
      "execution_count": null,
      "id": "a740d292-5022-403a-a346-b344098c5510",
      "metadata": {
        "id": "a740d292-5022-403a-a346-b344098c5510"
      },
      "outputs": [],
      "source": [
        "#Q9. What is the main advantage of ensemble techniques?\n",
        "\n",
        "# Ensemble techniques improve predictive performance by reducing variance, bias, and improving generalization.\n"
      ]
    },
    {
      "cell_type": "code",
      "execution_count": null,
      "id": "81242206-2d18-4841-b192-5cd5f8d00e73",
      "metadata": {
        "id": "81242206-2d18-4841-b192-5cd5f8d00e73"
      },
      "outputs": [],
      "source": [
        "#Q10. What is the main challenge of ensemble methods?\n",
        "\n",
        "\n",
        "# The main challenges include computational complexity, difficulty in interpretation, and the risk of overfitting if not properly tuned.\n"
      ]
    },
    {
      "cell_type": "code",
      "execution_count": null,
      "id": "d836c2f1-7891-4e50-89c8-cfbb838332d4",
      "metadata": {
        "id": "d836c2f1-7891-4e50-89c8-cfbb838332d4"
      },
      "outputs": [],
      "source": [
        "#Q11. Explain the key idea behind ensemble techniques.\n",
        "\n",
        "# Ensemble techniques combine multiple models to make better predictions than individual models by reducing bias and variance.\n"
      ]
    },
    {
      "cell_type": "code",
      "execution_count": null,
      "id": "e4cad7d7-873c-48d6-bed9-ad766277f8cb",
      "metadata": {
        "id": "e4cad7d7-873c-48d6-bed9-ad766277f8cb"
      },
      "outputs": [],
      "source": [
        "#Q12. What is a Random Forest Classifier?\n",
        "\n",
        "\n",
        "# A Random Forest Classifier is an ensemble learning method that constructs multiple Decision Trees and combines their predictions to improve classification accuracy.\n"
      ]
    },
    {
      "cell_type": "code",
      "execution_count": null,
      "id": "19963d03-1640-486b-baa1-e418661d2fc8",
      "metadata": {
        "id": "19963d03-1640-486b-baa1-e418661d2fc8"
      },
      "outputs": [],
      "source": [
        "#Q13. What are the main types of ensemble techniques?\n",
        "\n",
        "    # - Bagging (Bootstrap Aggregating)\n",
        "    # - Boosting (e.g., AdaBoost, Gradient Boosting)\n",
        "    # - Stacking\n",
        "    # - Voting/Averaging"
      ]
    },
    {
      "cell_type": "code",
      "execution_count": null,
      "id": "6f60c27c-74e5-41fe-b5e0-b7ca9bec6848",
      "metadata": {
        "id": "6f60c27c-74e5-41fe-b5e0-b7ca9bec6848"
      },
      "outputs": [],
      "source": [
        "#Q14. What is ensemble learning in machine learning?\n",
        "\n",
        "# Ensemble learning is a method that combines multiple models to produce a more robust predictive model.\n"
      ]
    },
    {
      "cell_type": "code",
      "execution_count": null,
      "id": "e6899777-aabb-4fa3-826c-407be968d00e",
      "metadata": {
        "id": "e6899777-aabb-4fa3-826c-407be968d00e"
      },
      "outputs": [],
      "source": [
        "#Q15. When should we avoid using ensemble methods?\n",
        "\n",
        "    # Ensemble methods should be avoided when:\n",
        "    # - The dataset is small, making a single model sufficient.\n",
        "    # - Interpretability is crucial.\n",
        "    # - Computational resources are limited."
      ]
    },
    {
      "cell_type": "code",
      "execution_count": null,
      "id": "b1c99f57-4499-4888-984d-993830c54f20",
      "metadata": {
        "id": "b1c99f57-4499-4888-984d-993830c54f20"
      },
      "outputs": [],
      "source": [
        "#Q16. How does Bagging help in reducing overfitting?\n",
        "\n",
        "# Bagging reduces overfitting by training multiple models on different bootstrap samples, averaging predictions, and reducing variance.\n"
      ]
    },
    {
      "cell_type": "code",
      "execution_count": null,
      "id": "ffc0fbeb-0aad-4bbe-b4fe-249557706013",
      "metadata": {
        "id": "ffc0fbeb-0aad-4bbe-b4fe-249557706013"
      },
      "outputs": [],
      "source": [
        "#Q17. Why is Random Forest better than a single Decision Tree?\n",
        "\n",
        "# Random Forest is better because it reduces overfitting, improves accuracy, and generalizes better by averaging multiple Decision Trees.\n"
      ]
    },
    {
      "cell_type": "code",
      "execution_count": null,
      "id": "591e662c-4a98-454f-9b19-0e5bfb4ebcca",
      "metadata": {
        "id": "591e662c-4a98-454f-9b19-0e5bfb4ebcca"
      },
      "outputs": [],
      "source": [
        "#Q18. What is the role of bootstrap sampling in Bagging?\n",
        "\n",
        "# Bootstrap sampling creates diverse training datasets by randomly selecting data points with replacement, leading to less correlation between models and better generalization.\n"
      ]
    },
    {
      "cell_type": "code",
      "execution_count": null,
      "id": "84d36ccf-db6a-4cc6-9aef-037bf8c6ec4f",
      "metadata": {
        "id": "84d36ccf-db6a-4cc6-9aef-037bf8c6ec4f"
      },
      "outputs": [],
      "source": [
        "#Q19. What are some real-world applications of ensemble techniques?\n",
        "\n",
        "\n",
        "# - Fraud detection\n",
        "# - Medical diagnosis\n",
        "# - Stock price prediction\n",
        "# - Image recognition\n",
        "# - Recommendation systems"
      ]
    },
    {
      "cell_type": "code",
      "execution_count": null,
      "id": "27024b37-a859-4986-a024-4660519556c8",
      "metadata": {
        "id": "27024b37-a859-4986-a024-4660519556c8"
      },
      "outputs": [],
      "source": [
        "#Q20. What is the difference between Bagging and Boosting?\n",
        "\n",
        "# - Bagging reduces variance by training models independently on random subsets.\n",
        "# - Boosting reduces bias by sequentially training models, where each model corrects the errors of the previous one.\n",
        "\n"
      ]
    },
    {
      "cell_type": "markdown",
      "id": "1c2c1841-c393-499c-9e64-01d892367d52",
      "metadata": {
        "id": "1c2c1841-c393-499c-9e64-01d892367d52"
      },
      "source": [
        "# Practical"
      ]
    },
    {
      "cell_type": "code",
      "execution_count": null,
      "id": "376ce033-5d95-490f-abe2-c372a56c801d",
      "metadata": {
        "id": "376ce033-5d95-490f-abe2-c372a56c801d"
      },
      "outputs": [],
      "source": [
        "#Q21 Train a Random Forest Classifier and tune hyperparameters using GridSearchCV"
      ]
    },
    {
      "cell_type": "code",
      "execution_count": null,
      "id": "684809c6-4a46-4988-9c12-325b0cde8700",
      "metadata": {
        "id": "684809c6-4a46-4988-9c12-325b0cde8700",
        "outputId": "d2bf834e-cdd2-41a5-a060-5462866466bb"
      },
      "outputs": [
        {
          "name": "stdout",
          "output_type": "stream",
          "text": [
            "Best Params: {'max_depth': None, 'n_estimators': 100}\n",
            "Accuracy: 1.00\n"
          ]
        }
      ],
      "source": [
        "from sklearn.ensemble import RandomForestClassifier\n",
        "from sklearn.model_selection import GridSearchCV\n",
        "from sklearn.datasets import load_iris\n",
        "from sklearn.metrics import accuracy_score\n",
        "from sklearn.model_selection import train_test_split\n",
        "\n",
        "# Load dataset\n",
        "data = load_iris()\n",
        "X, y = data.data, data.target\n",
        "X_train, X_test, y_train, y_test = train_test_split(X, y, test_size=0.2, random_state=42)\n",
        "\n",
        "# Define model and parameters for tuning\n",
        "param_grid = {'n_estimators': [50, 100, 200], 'max_depth': [None, 10, 20]}\n",
        "grid_search = GridSearchCV(RandomForestClassifier(), param_grid, cv=5)\n",
        "grid_search.fit(X_train, y_train)\n",
        "\n",
        "# Evaluate best model\n",
        "best_model = grid_search.best_estimator_\n",
        "y_pred = best_model.predict(X_test)\n",
        "print(f\"Best Params: {grid_search.best_params_}\")\n",
        "print(f\"Accuracy: {accuracy_score(y_test, y_pred):.2f}\")\n"
      ]
    },
    {
      "cell_type": "code",
      "execution_count": null,
      "id": "3ecc41e7-9deb-4ca3-b891-17a7a133ca98",
      "metadata": {
        "id": "3ecc41e7-9deb-4ca3-b891-17a7a133ca98"
      },
      "outputs": [],
      "source": [
        "#Q22 Train a Bagging Regressor using Decision Trees and evaluate using Mean Squared Error (MSE)"
      ]
    },
    {
      "cell_type": "code",
      "execution_count": null,
      "id": "b85c2523-96f8-4633-b324-2c6c12c8297c",
      "metadata": {
        "id": "b85c2523-96f8-4633-b324-2c6c12c8297c",
        "outputId": "5aa16329-8f6a-4b6b-9898-5244f3e5cd9b"
      },
      "outputs": [
        {
          "name": "stdout",
          "output_type": "stream",
          "text": [
            "Mean Squared Error (MSE) of Bagging Regressor: 0.2572988359842641\n"
          ]
        }
      ],
      "source": [
        "from sklearn.tree import DecisionTreeRegressor\n",
        "from sklearn.ensemble import BaggingRegressor\n",
        "from sklearn.datasets import fetch_california_housing\n",
        "from sklearn.model_selection import train_test_split\n",
        "from sklearn.metrics import mean_squared_error\n",
        "\n",
        "# Load the California Housing dataset\n",
        "data = fetch_california_housing()\n",
        "X_train, X_test, y_train, y_test = train_test_split(data.data, data.target, test_size=0.2, random_state=42)\n",
        "\n",
        "# Train a Bagging Regressor using Decision Trees\n",
        "base_regressor = DecisionTreeRegressor()\n",
        "bagging_regressor = BaggingRegressor(estimator=base_regressor, n_estimators=50, random_state=42)\n",
        "bagging_regressor.fit(X_train, y_train)\n",
        "\n",
        "# Predict and evaluate the Bagging Regressor\n",
        "y_pred = bagging_regressor.predict(X_test)\n",
        "mse = mean_squared_error(y_test, y_pred)\n",
        "print(\"Mean Squared Error (MSE) of Bagging Regressor:\", mse)\n"
      ]
    },
    {
      "cell_type": "code",
      "execution_count": null,
      "id": "ea3c1fb1-71c3-404b-aff0-8379951ab7d1",
      "metadata": {
        "id": "ea3c1fb1-71c3-404b-aff0-8379951ab7d1"
      },
      "outputs": [],
      "source": [
        "#Q23  Train a Random Forest Classifier on the Breast Cancer dataset and print feature importance scores"
      ]
    },
    {
      "cell_type": "code",
      "execution_count": null,
      "id": "1df19738-2ba0-4e9c-9e52-7c2c723ea297",
      "metadata": {
        "id": "1df19738-2ba0-4e9c-9e52-7c2c723ea297",
        "outputId": "e5b83029-a748-47ce-8822-badfafc16728"
      },
      "outputs": [
        {
          "name": "stdout",
          "output_type": "stream",
          "text": [
            "Feature Importance Scores:\n",
            "                    Feature  Importance\n",
            "0               mean radius    0.048703\n",
            "1              mean texture    0.013591\n",
            "2            mean perimeter    0.053270\n",
            "3                 mean area    0.047555\n",
            "4           mean smoothness    0.007285\n",
            "5          mean compactness    0.013944\n",
            "6            mean concavity    0.068001\n",
            "7       mean concave points    0.106210\n",
            "8             mean symmetry    0.003770\n",
            "9    mean fractal dimension    0.003886\n",
            "10             radius error    0.020139\n",
            "11            texture error    0.004724\n",
            "12          perimeter error    0.011303\n",
            "13               area error    0.022407\n",
            "14         smoothness error    0.004271\n",
            "15        compactness error    0.005253\n",
            "16          concavity error    0.009386\n",
            "17     concave points error    0.003513\n",
            "18           symmetry error    0.004018\n",
            "19  fractal dimension error    0.005321\n",
            "20             worst radius    0.077987\n",
            "21            worst texture    0.021749\n",
            "22          worst perimeter    0.067115\n",
            "23               worst area    0.153892\n",
            "24         worst smoothness    0.010644\n",
            "25        worst compactness    0.020266\n",
            "26          worst concavity    0.031802\n",
            "27     worst concave points    0.144663\n",
            "28           worst symmetry    0.010120\n",
            "29  worst fractal dimension    0.005210\n",
            "\n",
            "Sorted Feature Importance Scores:\n",
            "                    Feature  Importance\n",
            "23               worst area    0.153892\n",
            "27     worst concave points    0.144663\n",
            "7       mean concave points    0.106210\n",
            "20             worst radius    0.077987\n",
            "6            mean concavity    0.068001\n",
            "22          worst perimeter    0.067115\n",
            "2            mean perimeter    0.053270\n",
            "0               mean radius    0.048703\n",
            "3                 mean area    0.047555\n",
            "26          worst concavity    0.031802\n",
            "13               area error    0.022407\n",
            "21            worst texture    0.021749\n",
            "25        worst compactness    0.020266\n",
            "10             radius error    0.020139\n",
            "5          mean compactness    0.013944\n",
            "1              mean texture    0.013591\n",
            "12          perimeter error    0.011303\n",
            "24         worst smoothness    0.010644\n",
            "28           worst symmetry    0.010120\n",
            "16          concavity error    0.009386\n",
            "4           mean smoothness    0.007285\n",
            "19  fractal dimension error    0.005321\n",
            "15        compactness error    0.005253\n",
            "29  worst fractal dimension    0.005210\n",
            "11            texture error    0.004724\n",
            "14         smoothness error    0.004271\n",
            "18           symmetry error    0.004018\n",
            "9    mean fractal dimension    0.003886\n",
            "8             mean symmetry    0.003770\n",
            "17     concave points error    0.003513\n"
          ]
        }
      ],
      "source": [
        "from sklearn.datasets import load_breast_cancer\n",
        "from sklearn.model_selection import train_test_split\n",
        "from sklearn.ensemble import RandomForestClassifier\n",
        "import pandas as pd\n",
        "\n",
        "# Load the Breast Cancer dataset\n",
        "breast_cancer = load_breast_cancer()\n",
        "X_train, X_test, y_train, y_test = train_test_split(breast_cancer.data, breast_cancer.target, test_size=0.2, random_state=42)\n",
        "\n",
        "# Train a Random Forest Classifier\n",
        "model = RandomForestClassifier(n_estimators=100, random_state=42)\n",
        "model.fit(X_train, y_train)\n",
        "\n",
        "# Get feature importance scores\n",
        "feature_importances = model.feature_importances_\n",
        "features = breast_cancer.feature_names\n",
        "\n",
        "# Create a DataFrame for better visualization\n",
        "importance_df = pd.DataFrame({'Feature': features, 'Importance': feature_importances})\n",
        "print(\"Feature Importance Scores:\")\n",
        "print(importance_df)\n",
        "\n",
        "# Sort by importance\n",
        "importance_df_sorted = importance_df.sort_values(by='Importance', ascending=False)\n",
        "print(\"\\nSorted Feature Importance Scores:\")\n",
        "print(importance_df_sorted)\n"
      ]
    },
    {
      "cell_type": "code",
      "execution_count": null,
      "id": "0ff4b266-eb5d-4733-9432-36f51d588614",
      "metadata": {
        "id": "0ff4b266-eb5d-4733-9432-36f51d588614"
      },
      "outputs": [],
      "source": [
        "#Q24 Train a Random Forest Regressor and compare its performance with a single Decision Tree"
      ]
    },
    {
      "cell_type": "code",
      "execution_count": null,
      "id": "60ebc05e-3426-4f40-b0c1-8ecb68427209",
      "metadata": {
        "id": "60ebc05e-3426-4f40-b0c1-8ecb68427209",
        "outputId": "91d39e88-2104-421f-e1b1-7281d92d4b5c"
      },
      "outputs": [
        {
          "name": "stdout",
          "output_type": "stream",
          "text": [
            "Mean Squared Error (MSE) of Decision Tree Regressor: 0.495235205629094\n",
            "Mean Squared Error (MSE) of Random Forest Regressor: 0.2553684927247781\n",
            "MSE of Decision Tree Regressor: 0.50\n",
            "MSE of Random Forest Regressor: 0.26\n"
          ]
        }
      ],
      "source": [
        "# Import necessary libraries\n",
        "from sklearn.tree import DecisionTreeRegressor\n",
        "from sklearn.ensemble import RandomForestRegressor\n",
        "from sklearn.datasets import fetch_california_housing\n",
        "from sklearn.model_selection import train_test_split\n",
        "from sklearn.metrics import mean_squared_error\n",
        "\n",
        "# Load the California Housing dataset\n",
        "data = fetch_california_housing()\n",
        "X_train, X_test, y_train, y_test = train_test_split(data.data, data.target, test_size=0.2, random_state=42)\n",
        "\n",
        "# Train a Single Decision Tree Regressor\n",
        "tree_regressor = DecisionTreeRegressor(random_state=42)\n",
        "tree_regressor.fit(X_train, y_train)\n",
        "\n",
        "# Predict and evaluate the Decision Tree Regressor\n",
        "y_pred_tree = tree_regressor.predict(X_test)\n",
        "mse_tree = mean_squared_error(y_test, y_pred_tree)\n",
        "print(\"Mean Squared Error (MSE) of Decision Tree Regressor:\", mse_tree)\n",
        "\n",
        "# Train a Random Forest Regressor\n",
        "forest_regressor = RandomForestRegressor(n_estimators=100, random_state=42)\n",
        "forest_regressor.fit(X_train, y_train)\n",
        "\n",
        "# Predict and evaluate the Random Forest Regressor\n",
        "y_pred_forest = forest_regressor.predict(X_test)\n",
        "mse_forest = mean_squared_error(y_test, y_pred_forest)\n",
        "print(\"Mean Squared Error (MSE) of Random Forest Regressor:\", mse_forest)\n",
        "\n",
        "# Compare the MSEs\n",
        "print(f\"MSE of Decision Tree Regressor: {mse_tree:.2f}\")\n",
        "print(f\"MSE of Random Forest Regressor: {mse_forest:.2f}\")\n"
      ]
    },
    {
      "cell_type": "code",
      "execution_count": null,
      "id": "395b52ce-a5d7-4d91-a7f6-9987434a6a04",
      "metadata": {
        "id": "395b52ce-a5d7-4d91-a7f6-9987434a6a04"
      },
      "outputs": [],
      "source": [
        "#Q25 Compute the Out-of-Bag (OOB) Score for a Random Forest Classifier"
      ]
    },
    {
      "cell_type": "code",
      "execution_count": null,
      "id": "c8665aa8-da48-4bd1-9e13-0fe41b8d133f",
      "metadata": {
        "id": "c8665aa8-da48-4bd1-9e13-0fe41b8d133f",
        "outputId": "db8c0159-cf4d-4032-d466-cc619aee17a9"
      },
      "outputs": [
        {
          "name": "stdout",
          "output_type": "stream",
          "text": [
            "Out-of-Bag (OOB) Score: 0.9560439560439561\n",
            "Accuracy on test set: 0.9649122807017544\n"
          ]
        }
      ],
      "source": [
        "from sklearn.datasets import load_breast_cancer\n",
        "from sklearn.model_selection import train_test_split\n",
        "from sklearn.ensemble import RandomForestClassifier\n",
        "\n",
        "# Load the Breast Cancer dataset\n",
        "breast_cancer = load_breast_cancer()\n",
        "X_train, X_test, y_train, y_test = train_test_split(breast_cancer.data, breast_cancer.target, test_size=0.2, random_state=42)\n",
        "\n",
        "# Train a Random Forest Classifier with OOB score enabled\n",
        "model = RandomForestClassifier(n_estimators=100, oob_score=True, random_state=42)\n",
        "model.fit(X_train, y_train)\n",
        "\n",
        "# Compute the OOB score\n",
        "oob_score = model.oob_score_\n",
        "print(\"Out-of-Bag (OOB) Score:\", oob_score)\n",
        "\n",
        "# Evaluate the model on the test set\n",
        "accuracy = model.score(X_test, y_test)\n",
        "print(\"Accuracy on test set:\", accuracy)\n"
      ]
    },
    {
      "cell_type": "code",
      "execution_count": null,
      "id": "72320397-3d3f-4179-9b2d-a721e48698ce",
      "metadata": {
        "id": "72320397-3d3f-4179-9b2d-a721e48698ce"
      },
      "outputs": [],
      "source": [
        "#Q26  Train a Bagging Classifier using SVM as a base estimator and print accuracy"
      ]
    },
    {
      "cell_type": "code",
      "execution_count": null,
      "id": "26ad14b0-4da0-4ac7-b29d-3360a5fbcd6c",
      "metadata": {
        "id": "26ad14b0-4da0-4ac7-b29d-3360a5fbcd6c",
        "outputId": "0796df58-6a2e-4974-d259-1dbeaa15d403"
      },
      "outputs": [
        {
          "name": "stdout",
          "output_type": "stream",
          "text": [
            "Accuracy of Bagging Classifier with SVM base estimator: 0.9473684210526315\n"
          ]
        }
      ],
      "source": [
        "from sklearn.svm import SVC\n",
        "from sklearn.ensemble import BaggingClassifier\n",
        "from sklearn.datasets import load_breast_cancer\n",
        "from sklearn.model_selection import train_test_split\n",
        "from sklearn.metrics import accuracy_score\n",
        "\n",
        "# Load the Breast Cancer dataset\n",
        "breast_cancer = load_breast_cancer()\n",
        "X_train, X_test, y_train, y_test = train_test_split(breast_cancer.data, breast_cancer.target, test_size=0.2, random_state=42)\n",
        "\n",
        "# Train a Bagging Classifier using SVM as base estimator\n",
        "base_estimator = SVC()\n",
        "bagging_classifier = BaggingClassifier(estimator=base_estimator, n_estimators=50, random_state=42)\n",
        "bagging_classifier.fit(X_train, y_train)\n",
        "\n",
        "# Predict and evaluate the Bagging Classifier\n",
        "y_pred = bagging_classifier.predict(X_test)\n",
        "accuracy = accuracy_score(y_test, y_pred)\n",
        "print(\"Accuracy of Bagging Classifier with SVM base estimator:\", accuracy)\n"
      ]
    },
    {
      "cell_type": "code",
      "execution_count": null,
      "id": "61a2382a-b493-4287-a491-65db69d30102",
      "metadata": {
        "id": "61a2382a-b493-4287-a491-65db69d30102"
      },
      "outputs": [],
      "source": [
        "#Q27  Train a Random Forest Classifier with different numbers of trees and compare accuracy"
      ]
    },
    {
      "cell_type": "code",
      "execution_count": null,
      "id": "0f318258-99dc-4720-ae87-8fd218a85e8d",
      "metadata": {
        "id": "0f318258-99dc-4720-ae87-8fd218a85e8d",
        "outputId": "77b4995c-aff9-40f5-e79f-d50747bff48b"
      },
      "outputs": [
        {
          "name": "stdout",
          "output_type": "stream",
          "text": [
            "Accuracy with 10 trees: 0.9561\n",
            "Accuracy with 50 trees: 0.9649\n",
            "Accuracy with 100 trees: 0.9649\n",
            "Accuracy with 200 trees: 0.9649\n",
            "\n",
            "Accuracy Results:\n",
            "10 trees: 0.9561\n",
            "50 trees: 0.9649\n",
            "100 trees: 0.9649\n",
            "200 trees: 0.9649\n"
          ]
        }
      ],
      "source": [
        "# Import necessary libraries\n",
        "from sklearn.datasets import load_breast_cancer\n",
        "from sklearn.model_selection import train_test_split\n",
        "from sklearn.ensemble import RandomForestClassifier\n",
        "from sklearn.metrics import accuracy_score\n",
        "\n",
        "# Load the Breast Cancer dataset\n",
        "breast_cancer = load_breast_cancer()\n",
        "X_train, X_test, y_train, y_test = train_test_split(breast_cancer.data, breast_cancer.target, test_size=0.2, random_state=42)\n",
        "\n",
        "# List of different numbers of trees (estimators) to try\n",
        "n_estimators_list = [10, 50, 100, 200]\n",
        "\n",
        "# Dictionary to store accuracies for each number of trees\n",
        "accuracy_results = {}\n",
        "\n",
        "# Train and evaluate Random Forest Classifier for each number of trees\n",
        "for n_estimators in n_estimators_list:\n",
        "    model = RandomForestClassifier(n_estimators=n_estimators, random_state=42)\n",
        "    model.fit(X_train, y_train)\n",
        "    y_pred = model.predict(X_test)\n",
        "    accuracy = accuracy_score(y_test, y_pred)\n",
        "    accuracy_results[n_estimators] = accuracy\n",
        "    print(f\"Accuracy with {n_estimators} trees: {accuracy:.4f}\")\n",
        "\n",
        "# Print accuracy results\n",
        "print(\"\\nAccuracy Results:\")\n",
        "for n_estimators, accuracy in accuracy_results.items():\n",
        "    print(f\"{n_estimators} trees: {accuracy:.4f}\")\n"
      ]
    },
    {
      "cell_type": "code",
      "execution_count": null,
      "id": "e784f414-973c-4ddb-bfb1-205e19b95b3a",
      "metadata": {
        "id": "e784f414-973c-4ddb-bfb1-205e19b95b3a"
      },
      "outputs": [],
      "source": [
        "#Q28 Train a Bagging Classifier using Logistic Regression as a base estimator and print AUC score"
      ]
    },
    {
      "cell_type": "code",
      "execution_count": null,
      "id": "1d08ff19-b0fe-49ec-852f-6fa384f2d91a",
      "metadata": {
        "id": "1d08ff19-b0fe-49ec-852f-6fa384f2d91a",
        "outputId": "469b6c80-1251-45ed-9617-78c5f2a732dd"
      },
      "outputs": [
        {
          "name": "stdout",
          "output_type": "stream",
          "text": [
            "AUC Score of Bagging Classifier with Logistic Regression base estimator: 0.99737962659679\n"
          ]
        }
      ],
      "source": [
        "from sklearn.linear_model import LogisticRegression\n",
        "from sklearn.ensemble import BaggingClassifier\n",
        "from sklearn.datasets import load_breast_cancer\n",
        "from sklearn.model_selection import train_test_split\n",
        "from sklearn.metrics import roc_auc_score\n",
        "\n",
        "# Load the Breast Cancer dataset\n",
        "breast_cancer = load_breast_cancer()\n",
        "X_train, X_test, y_train, y_test = train_test_split(breast_cancer.data, breast_cancer.target, test_size=0.2, random_state=42)\n",
        "\n",
        "# Train a Bagging Classifier using Logistic Regression as base estimator\n",
        "base_estimator = LogisticRegression(max_iter=10000)\n",
        "bagging_classifier = BaggingClassifier(estimator=base_estimator, n_estimators=50, random_state=42)\n",
        "bagging_classifier.fit(X_train, y_train)\n",
        "\n",
        "# Predict probabilities of the positive class\n",
        "y_pred_proba = bagging_classifier.predict_proba(X_test)[:, 1]\n",
        "\n",
        "# Compute AUC score\n",
        "auc_score = roc_auc_score(y_test, y_pred_proba)\n",
        "print(\"AUC Score of Bagging Classifier with Logistic Regression base estimator:\", auc_score)\n"
      ]
    },
    {
      "cell_type": "code",
      "execution_count": null,
      "id": "ebe1a35b-b880-4d84-86e9-7f03f4391d70",
      "metadata": {
        "id": "ebe1a35b-b880-4d84-86e9-7f03f4391d70"
      },
      "outputs": [],
      "source": [
        "#Q29 Train a Random Forest Regressor and analyze feature importance scores"
      ]
    },
    {
      "cell_type": "code",
      "execution_count": null,
      "id": "cb293606-a00f-4f3d-a449-e73939cf5aa2",
      "metadata": {
        "id": "cb293606-a00f-4f3d-a449-e73939cf5aa2",
        "outputId": "6df3a42d-ef46-40eb-d2e2-619726b8265c"
      },
      "outputs": [
        {
          "name": "stdout",
          "output_type": "stream",
          "text": [
            "Mean Squared Error (MSE): 0.2553684927247781\n",
            "Feature Importance Scores:\n",
            "      Feature  Importance\n",
            "0      MedInc    0.524871\n",
            "1    HouseAge    0.054593\n",
            "2    AveRooms    0.044272\n",
            "3   AveBedrms    0.029606\n",
            "4  Population    0.030650\n",
            "5    AveOccup    0.138443\n",
            "6    Latitude    0.088936\n",
            "7   Longitude    0.088629\n",
            "\n",
            "Sorted Feature Importance Scores:\n",
            "      Feature  Importance\n",
            "0      MedInc    0.524871\n",
            "5    AveOccup    0.138443\n",
            "6    Latitude    0.088936\n",
            "7   Longitude    0.088629\n",
            "1    HouseAge    0.054593\n",
            "2    AveRooms    0.044272\n",
            "4  Population    0.030650\n",
            "3   AveBedrms    0.029606\n"
          ]
        }
      ],
      "source": [
        "from sklearn.ensemble import RandomForestRegressor\n",
        "from sklearn.datasets import fetch_california_housing\n",
        "from sklearn.model_selection import train_test_split\n",
        "from sklearn.metrics import mean_squared_error\n",
        "import pandas as pd\n",
        "\n",
        "# Load the California Housing dataset\n",
        "data = fetch_california_housing()\n",
        "X_train, X_test, y_train, y_test = train_test_split(data.data, data.target, test_size=0.2, random_state=42)\n",
        "\n",
        "# Train a Random Forest Regressor\n",
        "model = RandomForestRegressor(n_estimators=100, random_state=42)\n",
        "model.fit(X_train, y_train)\n",
        "\n",
        "# Predict and evaluate the model\n",
        "y_pred = model.predict(X_test)\n",
        "mse = mean_squared_error(y_test, y_pred)\n",
        "print(\"Mean Squared Error (MSE):\", mse)\n",
        "\n",
        "# Get feature importance scores\n",
        "feature_importances = model.feature_importances_\n",
        "features = data.feature_names\n",
        "\n",
        "# Create a DataFrame for better visualization\n",
        "importance_df = pd.DataFrame({'Feature': features, 'Importance': feature_importances})\n",
        "print(\"Feature Importance Scores:\")\n",
        "print(importance_df)\n",
        "\n",
        "# Sort by importance\n",
        "importance_df_sorted = importance_df.sort_values(by='Importance', ascending=False)\n",
        "print(\"\\nSorted Feature Importance Scores:\")\n",
        "print(importance_df_sorted)\n"
      ]
    },
    {
      "cell_type": "code",
      "execution_count": null,
      "id": "3ae53d1f-bf15-4773-a85d-aedd9968bae7",
      "metadata": {
        "id": "3ae53d1f-bf15-4773-a85d-aedd9968bae7"
      },
      "outputs": [],
      "source": [
        "#Q30 Train an ensemble model using both Bagging and Random Forest and compare accuracy."
      ]
    },
    {
      "cell_type": "code",
      "execution_count": null,
      "id": "fe330ac3-9e0d-4825-9ae6-5bb1752c8420",
      "metadata": {
        "id": "fe330ac3-9e0d-4825-9ae6-5bb1752c8420",
        "outputId": "53014902-be76-44cd-c2ca-0d2827c0d286"
      },
      "outputs": [
        {
          "name": "stdout",
          "output_type": "stream",
          "text": [
            "Accuracy of Bagging Classifier: 0.956140350877193\n",
            "Accuracy of Random Forest Classifier: 0.9649122807017544\n",
            "Accuracy of Bagging Classifier: 0.9561\n",
            "Accuracy of Random Forest Classifier: 0.9649\n"
          ]
        }
      ],
      "source": [
        "from sklearn.datasets import load_breast_cancer\n",
        "from sklearn.model_selection import train_test_split\n",
        "from sklearn.ensemble import BaggingClassifier, RandomForestClassifier\n",
        "from sklearn.tree import DecisionTreeClassifier\n",
        "from sklearn.metrics import accuracy_score\n",
        "\n",
        "# Load the Breast Cancer dataset\n",
        "breast_cancer = load_breast_cancer()\n",
        "X_train, X_test, y_train, y_test = train_test_split(breast_cancer.data, breast_cancer.target, test_size=0.2, random_state=42)\n",
        "\n",
        "# Train a Bagging Classifier using Decision Tree as base estimator\n",
        "bagging_classifier = BaggingClassifier(estimator=DecisionTreeClassifier(), n_estimators=50, random_state=42)\n",
        "bagging_classifier.fit(X_train, y_train)\n",
        "\n",
        "# Train a Random Forest Classifier\n",
        "random_forest_classifier = RandomForestClassifier(n_estimators=100, random_state=42)\n",
        "random_forest_classifier.fit(X_train, y_train)\n",
        "\n",
        "# Predict and evaluate the Bagging Classifier\n",
        "y_pred_bagging = bagging_classifier.predict(X_test)\n",
        "accuracy_bagging = accuracy_score(y_test, y_pred_bagging)\n",
        "print(\"Accuracy of Bagging Classifier:\", accuracy_bagging)\n",
        "\n",
        "# Predict and evaluate the Random Forest Classifier\n",
        "y_pred_random_forest = random_forest_classifier.predict(X_test)\n",
        "accuracy_random_forest = accuracy_score(y_test, y_pred_random_forest)\n",
        "print(\"Accuracy of Random Forest Classifier:\", accuracy_random_forest)\n",
        "\n",
        "# Compare the accuracies\n",
        "print(f\"Accuracy of Bagging Classifier: {accuracy_bagging:.4f}\")\n",
        "print(f\"Accuracy of Random Forest Classifier: {accuracy_random_forest:.4f}\")\n"
      ]
    },
    {
      "cell_type": "code",
      "execution_count": null,
      "id": "7d323f6c-77f2-47b9-9bf6-5345b1b66fc8",
      "metadata": {
        "id": "7d323f6c-77f2-47b9-9bf6-5345b1b66fc8"
      },
      "outputs": [],
      "source": [
        "#Q31 Train a Random Forest Classifier and tune hyperparameters using GridSearchCV"
      ]
    },
    {
      "cell_type": "code",
      "execution_count": null,
      "id": "ee761164-c446-42c2-8d73-83825ec1c517",
      "metadata": {
        "id": "ee761164-c446-42c2-8d73-83825ec1c517",
        "outputId": "878e98e1-267c-42e0-caac-de31653fb099"
      },
      "outputs": [
        {
          "name": "stdout",
          "output_type": "stream",
          "text": [
            "Best hyperparameters found:  {'max_depth': None, 'min_samples_leaf': 1, 'min_samples_split': 2, 'n_estimators': 200}\n",
            "Accuracy of the best model:  0.9649122807017544\n"
          ]
        }
      ],
      "source": [
        "from sklearn.datasets import load_breast_cancer\n",
        "from sklearn.model_selection import train_test_split, GridSearchCV\n",
        "from sklearn.ensemble import RandomForestClassifier\n",
        "from sklearn.metrics import accuracy_score\n",
        "\n",
        "# Load the Breast Cancer dataset\n",
        "breast_cancer = load_breast_cancer()\n",
        "X_train, X_test, y_train, y_test = train_test_split(breast_cancer.data, breast_cancer.target, test_size=0.2, random_state=42)\n",
        "\n",
        "# Define parameter grid for GridSearchCV\n",
        "param_grid = {\n",
        "    'n_estimators': [10, 50, 100, 200],\n",
        "    'max_depth': [None, 10, 20, 30],\n",
        "    'min_samples_split': [2, 5, 10],\n",
        "    'min_samples_leaf': [1, 2, 4]\n",
        "}\n",
        "\n",
        "# Initialize a Random Forest Classifier\n",
        "model = RandomForestClassifier(random_state=42)\n",
        "\n",
        "# Initialize GridSearchCV\n",
        "grid_search = GridSearchCV(estimator=model, param_grid=param_grid, cv=5, scoring='accuracy')\n",
        "\n",
        "# Train the model using GridSearchCV\n",
        "grid_search.fit(X_train, y_train)\n",
        "\n",
        "# Get the best model and parameters\n",
        "best_model = grid_search.best_estimator_\n",
        "best_params = grid_search.best_params_\n",
        "\n",
        "# Predict and evaluate the best model\n",
        "y_pred = best_model.predict(X_test)\n",
        "accuracy = accuracy_score(y_test, y_pred)\n",
        "\n",
        "# Print results\n",
        "print(\"Best hyperparameters found: \", best_params)\n",
        "print(\"Accuracy of the best model: \", accuracy)\n"
      ]
    },
    {
      "cell_type": "code",
      "execution_count": null,
      "id": "41bae98f-b971-402d-afdf-1dad7e517d76",
      "metadata": {
        "id": "41bae98f-b971-402d-afdf-1dad7e517d76"
      },
      "outputs": [],
      "source": [
        "#Q32 Train a Bagging Regressor with different numbers of base estimators and compare performance"
      ]
    },
    {
      "cell_type": "code",
      "execution_count": null,
      "id": "53902969-e456-45f7-8b43-81ba5beba450",
      "metadata": {
        "id": "53902969-e456-45f7-8b43-81ba5beba450",
        "outputId": "d8c9da13-2465-403d-a5e7-3c963dd316c1"
      },
      "outputs": [
        {
          "name": "stdout",
          "output_type": "stream",
          "text": [
            "MSE with 10 base estimators: 0.2824\n",
            "MSE with 50 base estimators: 0.2573\n",
            "MSE with 100 base estimators: 0.2559\n",
            "MSE with 200 base estimators: 0.2541\n",
            "\n",
            "MSE Results:\n",
            "10 base estimators: 0.2824\n",
            "50 base estimators: 0.2573\n",
            "100 base estimators: 0.2559\n",
            "200 base estimators: 0.2541\n"
          ]
        }
      ],
      "source": [
        "# Import necessary libraries\n",
        "from sklearn.tree import DecisionTreeRegressor\n",
        "from sklearn.ensemble import BaggingRegressor\n",
        "from sklearn.datasets import fetch_california_housing\n",
        "from sklearn.model_selection import train_test_split\n",
        "from sklearn.metrics import mean_squared_error\n",
        "\n",
        "# Load the California Housing dataset\n",
        "data = fetch_california_housing()\n",
        "X_train, X_test, y_train, y_test = train_test_split(data.data, data.target, test_size=0.2, random_state=42)\n",
        "\n",
        "# List of different numbers of base estimators to try\n",
        "n_estimators_list = [10, 50, 100, 200]\n",
        "\n",
        "# Dictionary to store MSE for each number of base estimators\n",
        "mse_results = {}\n",
        "\n",
        "# Train and evaluate Bagging Regressor for each number of base estimators\n",
        "for n_estimators in n_estimators_list:\n",
        "    model = BaggingRegressor(estimator=DecisionTreeRegressor(), n_estimators=n_estimators, random_state=42)\n",
        "    model.fit(X_train, y_train)\n",
        "    y_pred = model.predict(X_test)\n",
        "    mse = mean_squared_error(y_test, y_pred)\n",
        "    mse_results[n_estimators] = mse\n",
        "    print(f\"MSE with {n_estimators} base estimators: {mse:.4f}\")\n",
        "\n",
        "# Print MSE results\n",
        "print(\"\\nMSE Results:\")\n",
        "for n_estimators, mse in mse_results.items():\n",
        "    print(f\"{n_estimators} base estimators: {mse:.4f}\")\n"
      ]
    },
    {
      "cell_type": "code",
      "execution_count": null,
      "id": "af7244dd-c8da-4135-a66e-9979dd75944c",
      "metadata": {
        "id": "af7244dd-c8da-4135-a66e-9979dd75944c"
      },
      "outputs": [],
      "source": [
        "#Q33 Train a Random Forest Classifier and analyze misclassified samples"
      ]
    },
    {
      "cell_type": "code",
      "execution_count": null,
      "id": "525df2f1-7e4f-4a6e-9ca1-19027c4ac661",
      "metadata": {
        "id": "525df2f1-7e4f-4a6e-9ca1-19027c4ac661",
        "outputId": "045156f0-5ec2-4743-a5f5-2534f79900ba"
      },
      "outputs": [
        {
          "name": "stdout",
          "output_type": "stream",
          "text": [
            "Accuracy of Random Forest Classifier: 0.9649122807017544\n",
            "Number of misclassified samples: 4\n",
            "Misclassified samples' true labels: [1 0 0 0]\n",
            "Misclassified samples' predicted labels: [0 1 1 1]\n",
            "\n",
            "Misclassified Samples DataFrame:\n",
            "   mean radius  mean texture  mean perimeter  mean area  mean smoothness  \\\n",
            "0        13.34         15.86           86.49      520.0          0.10780   \n",
            "1        13.80         15.79           90.43      584.1          0.10070   \n",
            "2        13.96         17.05           91.43      602.4          0.10960   \n",
            "3        14.48         21.46           94.25      648.2          0.09444   \n",
            "\n",
            "   mean compactness  mean concavity  mean concave points  mean symmetry  \\\n",
            "0           0.15350         0.11690              0.06987         0.1942   \n",
            "1           0.12800         0.07789              0.05069         0.1662   \n",
            "2           0.12790         0.09789              0.05246         0.1908   \n",
            "3           0.09947         0.12040              0.04938         0.2075   \n",
            "\n",
            "   mean fractal dimension  ...  worst perimeter  worst area  worst smoothness  \\\n",
            "0                 0.06902  ...            96.66       614.9            0.1536   \n",
            "1                 0.06566  ...           110.30       812.4            0.1411   \n",
            "2                 0.06130  ...           108.10       826.0            0.1512   \n",
            "3                 0.05636  ...           108.40       808.9            0.1306   \n",
            "\n",
            "   worst compactness  worst concavity  worst concave points  worst symmetry  \\\n",
            "0             0.4791           0.4858                0.1708          0.3527   \n",
            "1             0.3542           0.2779                0.1383          0.2589   \n",
            "2             0.3262           0.3209                0.1374          0.3068   \n",
            "3             0.1976           0.3349                0.1225          0.3020   \n",
            "\n",
            "   worst fractal dimension  True Label  Predicted Label  \n",
            "0                  0.10160           1                0  \n",
            "1                  0.10300           0                1  \n",
            "2                  0.07957           0                1  \n",
            "3                  0.06846           0                1  \n",
            "\n",
            "[4 rows x 32 columns]\n"
          ]
        }
      ],
      "source": [
        "from sklearn.datasets import load_breast_cancer\n",
        "from sklearn.model_selection import train_test_split\n",
        "from sklearn.ensemble import RandomForestClassifier\n",
        "from sklearn.metrics import accuracy_score, confusion_matrix\n",
        "\n",
        "# Load the Breast Cancer dataset\n",
        "breast_cancer = load_breast_cancer()\n",
        "X_train, X_test, y_train, y_test = train_test_split(breast_cancer.data, breast_cancer.target, test_size=0.2, random_state=42)\n",
        "\n",
        "# Train a Random Forest Classifier\n",
        "model = RandomForestClassifier(n_estimators=100, random_state=42)\n",
        "model.fit(X_train, y_train)\n",
        "\n",
        "# Predict the labels of the test set\n",
        "y_pred = model.predict(X_test)\n",
        "\n",
        "# Evaluate the model's accuracy\n",
        "accuracy = accuracy_score(y_test, y_pred)\n",
        "print(\"Accuracy of Random Forest Classifier:\", accuracy)\n",
        "\n",
        "# Compute the confusion matrix\n",
        "conf_matrix = confusion_matrix(y_test, y_pred)\n",
        "\n",
        "# Identify misclassified samples\n",
        "misclassified_samples = X_test[y_test != y_pred]\n",
        "misclassified_true_labels = y_test[y_test != y_pred]\n",
        "misclassified_pred_labels = y_pred[y_test != y_pred]\n",
        "\n",
        "print(\"Number of misclassified samples:\", len(misclassified_samples))\n",
        "print(\"Misclassified samples' true labels:\", misclassified_true_labels)\n",
        "print(\"Misclassified samples' predicted labels:\", misclassified_pred_labels)\n",
        "\n",
        "# Optional: Analyzing the misclassified samples\n",
        "import pandas as pd\n",
        "\n",
        "# Create a DataFrame for better visualization of misclassified samples\n",
        "misclassified_df = pd.DataFrame(misclassified_samples, columns=breast_cancer.feature_names)\n",
        "misclassified_df['True Label'] = misclassified_true_labels\n",
        "misclassified_df['Predicted Label'] = misclassified_pred_labels\n",
        "\n",
        "print(\"\\nMisclassified Samples DataFrame:\")\n",
        "print(misclassified_df)\n"
      ]
    },
    {
      "cell_type": "code",
      "execution_count": null,
      "id": "e50bf47e-855c-4859-880a-b9f619f0d010",
      "metadata": {
        "id": "e50bf47e-855c-4859-880a-b9f619f0d010"
      },
      "outputs": [],
      "source": [
        "#Q34 Train a Bagging Classifier and compare its performance with a single Decision Tree Classifier"
      ]
    },
    {
      "cell_type": "code",
      "execution_count": null,
      "id": "288025c0-dc7d-4db0-a59e-17bec7e0b76c",
      "metadata": {
        "id": "288025c0-dc7d-4db0-a59e-17bec7e0b76c",
        "outputId": "ac400669-6d3b-4dfc-cb2d-587a79041349"
      },
      "outputs": [
        {
          "name": "stdout",
          "output_type": "stream",
          "text": [
            "Accuracy of Bagging Classifier: 0.956140350877193\n",
            "Accuracy of Decision Tree Classifier: 0.9298245614035088\n",
            "Accuracy of Bagging Classifier: 0.9561\n",
            "Accuracy of Decision Tree Classifier: 0.9298\n"
          ]
        }
      ],
      "source": [
        "# Import necessary libraries\n",
        "from sklearn.datasets import load_breast_cancer\n",
        "from sklearn.model_selection import train_test_split\n",
        "from sklearn.ensemble import BaggingClassifier\n",
        "from sklearn.tree import DecisionTreeClassifier\n",
        "from sklearn.metrics import accuracy_score\n",
        "\n",
        "# Load the Breast Cancer dataset\n",
        "breast_cancer = load_breast_cancer()\n",
        "X_train, X_test, y_train, y_test = train_test_split(breast_cancer.data, breast_cancer.target, test_size=0.2, random_state=42)\n",
        "\n",
        "# Train a Bagging Classifier using Decision Tree as base estimator\n",
        "bagging_classifier = BaggingClassifier(estimator=DecisionTreeClassifier(), n_estimators=50, random_state=42)\n",
        "bagging_classifier.fit(X_train, y_train)\n",
        "\n",
        "# Train a single Decision Tree Classifier\n",
        "tree_classifier = DecisionTreeClassifier()\n",
        "tree_classifier.fit(X_train, y_train)\n",
        "\n",
        "# Predict and evaluate the Bagging Classifier\n",
        "y_pred_bagging = bagging_classifier.predict(X_test)\n",
        "accuracy_bagging = accuracy_score(y_test, y_pred_bagging)\n",
        "print(\"Accuracy of Bagging Classifier:\", accuracy_bagging)\n",
        "\n",
        "# Predict and evaluate the Decision Tree Classifier\n",
        "y_pred_tree = tree_classifier.predict(X_test)\n",
        "accuracy_tree = accuracy_score(y_test, y_pred_tree)\n",
        "print(\"Accuracy of Decision Tree Classifier:\", accuracy_tree)\n",
        "\n",
        "# Compare the accuracies\n",
        "print(f\"Accuracy of Bagging Classifier: {accuracy_bagging:.4f}\")\n",
        "print(f\"Accuracy of Decision Tree Classifier: {accuracy_tree:.4f}\")\n"
      ]
    },
    {
      "cell_type": "code",
      "execution_count": null,
      "id": "99180345-82ce-4e17-be3a-d6d7f1a8bde4",
      "metadata": {
        "id": "99180345-82ce-4e17-be3a-d6d7f1a8bde4"
      },
      "outputs": [],
      "source": [
        "#Q35 Train a Random Forest Classifier and visualize the confusion matrix"
      ]
    },
    {
      "cell_type": "code",
      "execution_count": null,
      "id": "d1f3c687-63bd-47ae-bd7f-b269bafde7b7",
      "metadata": {
        "id": "d1f3c687-63bd-47ae-bd7f-b269bafde7b7",
        "outputId": "2cca0947-1f41-4ca0-d38c-7f337e554e57"
      },
      "outputs": [
        {
          "data": {
            "image/png": "[encoded data removed]",
            "text/plain": [
              "<Figure size 1000x600 with 2 Axes>"
            ]
          },
          "metadata": {},
          "output_type": "display_data"
        },
        {
          "name": "stdout",
          "output_type": "stream",
          "text": [
            "Accuracy of Random Forest Classifier: 0.9649122807017544\n"
          ]
        }
      ],
      "source": [
        "# Import necessary libraries\n",
        "from sklearn.datasets import load_breast_cancer\n",
        "from sklearn.model_selection import train_test_split\n",
        "from sklearn.ensemble import RandomForestClassifier\n",
        "from sklearn.metrics import confusion_matrix, accuracy_score\n",
        "import seaborn as sns\n",
        "import matplotlib.pyplot as plt\n",
        "\n",
        "# Load the Breast Cancer dataset\n",
        "breast_cancer = load_breast_cancer()\n",
        "X_train, X_test, y_train, y_test = train_test_split(breast_cancer.data, breast_cancer.target, test_size=0.2, random_state=42)\n",
        "\n",
        "# Train a Random Forest Classifier\n",
        "model = RandomForestClassifier(n_estimators=100, random_state=42)\n",
        "model.fit(X_train, y_train)\n",
        "\n",
        "# Predict the labels of the test set\n",
        "y_pred = model.predict(X_test)\n",
        "\n",
        "# Compute the confusion matrix\n",
        "cm = confusion_matrix(y_test, y_pred)\n",
        "\n",
        "# Visualize the confusion matrix using seaborn\n",
        "plt.figure(figsize=(10, 6))\n",
        "sns.heatmap(cm, annot=True, fmt='d', cmap='Blues', xticklabels=breast_cancer.target_names, yticklabels=breast_cancer.target_names)\n",
        "plt.xlabel('Predicted')\n",
        "plt.ylabel('True')\n",
        "plt.title('Confusion Matrix')\n",
        "plt.show()\n",
        "\n",
        "# Print the accuracy\n",
        "accuracy = accuracy_score(y_test, y_pred)\n",
        "print(\"Accuracy of Random Forest Classifier:\", accuracy)\n"
      ]
    },
    {
      "cell_type": "code",
      "execution_count": null,
      "id": "ca21917b-0eda-491c-8fd8-6c5970b0833c",
      "metadata": {
        "id": "ca21917b-0eda-491c-8fd8-6c5970b0833c"
      },
      "outputs": [],
      "source": [
        "#Q36 Train a Stacking Classifier using Decision Trees, SVM, and Logistic Regression, and compare accuracy"
      ]
    },
    {
      "cell_type": "code",
      "execution_count": null,
      "id": "c95b5364-56b0-4fca-be3f-3f47d0decb16",
      "metadata": {
        "id": "c95b5364-56b0-4fca-be3f-3f47d0decb16",
        "outputId": "b6c4d364-4fdb-462f-b742-a899554ab9f6"
      },
      "outputs": [
        {
          "name": "stdout",
          "output_type": "stream",
          "text": [
            "Accuracy of Stacking Classifier: 0.956140350877193\n",
            "Accuracy of Decision Tree Classifier: 0.9298245614035088\n",
            "Accuracy of SVM Classifier: 0.9473684210526315\n",
            "Accuracy of Logistic Regression Classifier: 0.956140350877193\n",
            "Accuracy of Stacking Classifier: 0.9561\n",
            "Accuracy of Decision Tree Classifier: 0.9298\n",
            "Accuracy of SVM Classifier: 0.9474\n",
            "Accuracy of Logistic Regression Classifier: 0.9561\n"
          ]
        }
      ],
      "source": [
        "from sklearn.datasets import load_breast_cancer\n",
        "from sklearn.model_selection import train_test_split\n",
        "from sklearn.ensemble import StackingClassifier\n",
        "from sklearn.tree import DecisionTreeClassifier\n",
        "from sklearn.svm import SVC\n",
        "from sklearn.linear_model import LogisticRegression\n",
        "from sklearn.metrics import accuracy_score\n",
        "\n",
        "# Load the Breast Cancer dataset\n",
        "breast_cancer = load_breast_cancer()\n",
        "X_train, X_test, y_train, y_test = train_test_split(breast_cancer.data, breast_cancer.target, test_size=0.2, random_state=42)\n",
        "\n",
        "# Define base estimators\n",
        "estimators = [\n",
        "    ('decision_tree', DecisionTreeClassifier()),\n",
        "    ('svm', SVC(probability=True)),\n",
        "    ('logistic_regression', LogisticRegression(max_iter=10000))\n",
        "]\n",
        "\n",
        "# Define the Stacking Classifier\n",
        "stacking_classifier = StackingClassifier(estimators=estimators, final_estimator=LogisticRegression())\n",
        "\n",
        "# Train the Stacking Classifier\n",
        "stacking_classifier.fit(X_train, y_train)\n",
        "\n",
        "# Predict and evaluate the Stacking Classifier\n",
        "y_pred_stacking = stacking_classifier.predict(X_test)\n",
        "accuracy_stacking = accuracy_score(y_test, y_pred_stacking)\n",
        "print(\"Accuracy of Stacking Classifier:\", accuracy_stacking)\n",
        "\n",
        "# Train and evaluate individual classifiers for comparison\n",
        "# Decision Tree\n",
        "dt_classifier = DecisionTreeClassifier()\n",
        "dt_classifier.fit(X_train, y_train)\n",
        "y_pred_dt = dt_classifier.predict(X_test)\n",
        "accuracy_dt = accuracy_score(y_test, y_pred_dt)\n",
        "print(\"Accuracy of Decision Tree Classifier:\", accuracy_dt)\n",
        "\n",
        "# SVM\n",
        "svm_classifier = SVC()\n",
        "svm_classifier.fit(X_train, y_train)\n",
        "y_pred_svm = svm_classifier.predict(X_test)\n",
        "accuracy_svm = accuracy_score(y_test, y_pred_svm)\n",
        "print(\"Accuracy of SVM Classifier:\", accuracy_svm)\n",
        "\n",
        "# Logistic Regression\n",
        "lr_classifier = LogisticRegression(max_iter=10000)\n",
        "lr_classifier.fit(X_train, y_train)\n",
        "y_pred_lr = lr_classifier.predict(X_test)\n",
        "accuracy_lr = accuracy_score(y_test, y_pred_lr)\n",
        "print(\"Accuracy of Logistic Regression Classifier:\", accuracy_lr)\n",
        "\n",
        "# Compare the accuracies\n",
        "print(f\"Accuracy of Stacking Classifier: {accuracy_stacking:.4f}\")\n",
        "print(f\"Accuracy of Decision Tree Classifier: {accuracy_dt:.4f}\")\n",
        "print(f\"Accuracy of SVM Classifier: {accuracy_svm:.4f}\")\n",
        "print(f\"Accuracy of Logistic Regression Classifier: {accuracy_lr:.4f}\")\n"
      ]
    },
    {
      "cell_type": "code",
      "execution_count": null,
      "id": "220297fe-3aad-48ff-93a7-2cc49facc9fd",
      "metadata": {
        "id": "220297fe-3aad-48ff-93a7-2cc49facc9fd"
      },
      "outputs": [],
      "source": [
        "#Q37  Train a Random Forest Classifier and print the top 5 most important features"
      ]
    },
    {
      "cell_type": "code",
      "execution_count": null,
      "id": "2b70226b-c97e-4730-9bad-f85bc1f50830",
      "metadata": {
        "id": "2b70226b-c97e-4730-9bad-f85bc1f50830",
        "outputId": "2ff4b97f-0493-406d-802f-c0d2b2ec8a3c"
      },
      "outputs": [
        {
          "name": "stdout",
          "output_type": "stream",
          "text": [
            "Top 5 Most Important Features:\n",
            "                 Feature  Importance\n",
            "23            worst area    0.153892\n",
            "27  worst concave points    0.144663\n",
            "7    mean concave points    0.106210\n",
            "20          worst radius    0.077987\n",
            "6         mean concavity    0.068001\n"
          ]
        }
      ],
      "source": [
        "from sklearn.datasets import load_breast_cancer\n",
        "from sklearn.model_selection import train_test_split\n",
        "from sklearn.ensemble import RandomForestClassifier\n",
        "import pandas as pd\n",
        "\n",
        "# Load the Breast Cancer dataset\n",
        "breast_cancer = load_breast_cancer()\n",
        "X_train, X_test, y_train, y_test = train_test_split(breast_cancer.data, breast_cancer.target, test_size=0.2, random_state=42)\n",
        "\n",
        "# Train a Random Forest Classifier\n",
        "model = RandomForestClassifier(n_estimators=100, random_state=42)\n",
        "model.fit(X_train, y_train)\n",
        "\n",
        "# Get feature importance scores\n",
        "feature_importances = model.feature_importances_\n",
        "features = breast_cancer.feature_names\n",
        "\n",
        "# Create a DataFrame for better visualization\n",
        "importance_df = pd.DataFrame({'Feature': features, 'Importance': feature_importances})\n",
        "\n",
        "# Sort by importance and get the top 5 features\n",
        "importance_df_sorted = importance_df.sort_values(by='Importance', ascending=False)\n",
        "top_5_features = importance_df_sorted.head(5)\n",
        "\n",
        "print(\"Top 5 Most Important Features:\")\n",
        "print(top_5_features)\n"
      ]
    },
    {
      "cell_type": "code",
      "execution_count": null,
      "id": "1013465d-5a66-49b5-aa7d-27a3614790d2",
      "metadata": {
        "id": "1013465d-5a66-49b5-aa7d-27a3614790d2"
      },
      "outputs": [],
      "source": [
        "#Q38 Train a Bagging Classifier and evaluate performance using Precision, Recall, and F1-score"
      ]
    },
    {
      "cell_type": "code",
      "execution_count": null,
      "id": "368af501-fbc6-43ad-985e-a474b19ed34f",
      "metadata": {
        "id": "368af501-fbc6-43ad-985e-a474b19ed34f",
        "outputId": "f1ab8fb2-ebb7-4225-a2c6-9899712d7ab2"
      },
      "outputs": [
        {
          "name": "stdout",
          "output_type": "stream",
          "text": [
            "Precision: 0.96\n",
            "Recall: 0.96\n",
            "F1-Score: 0.96\n",
            "Accuracy: 0.96\n"
          ]
        }
      ],
      "source": [
        "from sklearn.datasets import load_breast_cancer\n",
        "from sklearn.model_selection import train_test_split\n",
        "from sklearn.ensemble import BaggingClassifier\n",
        "from sklearn.tree import DecisionTreeClassifier\n",
        "from sklearn.metrics import precision_score, recall_score, f1_score, accuracy_score\n",
        "\n",
        "# Load the Breast Cancer dataset\n",
        "breast_cancer = load_breast_cancer()\n",
        "X_train, X_test, y_train, y_test = train_test_split(breast_cancer.data, breast_cancer.target, test_size=0.2, random_state=42)\n",
        "\n",
        "# Train a Bagging Classifier using Decision Tree as base estimator\n",
        "bagging_classifier = BaggingClassifier(estimator=DecisionTreeClassifier(), n_estimators=50, random_state=42)\n",
        "bagging_classifier.fit(X_train, y_train)\n",
        "\n",
        "# Predict the labels of the test set\n",
        "y_pred = bagging_classifier.predict(X_test)\n",
        "\n",
        "# Evaluate the model using Precision, Recall, and F1-score\n",
        "precision = precision_score(y_test, y_pred, average='weighted')\n",
        "recall = recall_score(y_test, y_pred, average='weighted')\n",
        "f1 = f1_score(y_test, y_pred, average='weighted')\n",
        "accuracy = accuracy_score(y_test, y_pred)\n",
        "\n",
        "# Print the evaluation metrics\n",
        "print(f\"Precision: {precision:.2f}\")\n",
        "print(f\"Recall: {recall:.2f}\")\n",
        "print(f\"F1-Score: {f1:.2f}\")\n",
        "print(f\"Accuracy: {accuracy:.2f}\")\n"
      ]
    },
    {
      "cell_type": "code",
      "execution_count": null,
      "id": "39415da8-e397-4204-a9bf-2a1c91304893",
      "metadata": {
        "id": "39415da8-e397-4204-a9bf-2a1c91304893"
      },
      "outputs": [],
      "source": [
        "#Q39 Train a Random Forest Classifier and analyze the effect of max_depth on accuracy"
      ]
    },
    {
      "cell_type": "code",
      "execution_count": null,
      "id": "1b066d22-9ccd-4485-87e5-bbdf9fa9ad86",
      "metadata": {
        "id": "1b066d22-9ccd-4485-87e5-bbdf9fa9ad86",
        "outputId": "6c325628-e05e-4bb3-c6e6-e6ffe5980ca9"
      },
      "outputs": [
        {
          "name": "stdout",
          "output_type": "stream",
          "text": [
            "Accuracy with max_depth=None: 0.9649\n",
            "Accuracy with max_depth=5: 0.9649\n",
            "Accuracy with max_depth=10: 0.9649\n",
            "Accuracy with max_depth=15: 0.9649\n",
            "Accuracy with max_depth=20: 0.9649\n",
            "Accuracy with max_depth=25: 0.9649\n"
          ]
        },
        {
          "data": {
            "image/png": "[encoded data removed]",
            "text/plain": [
              "<Figure size 1000x600 with 1 Axes>"
            ]
          },
          "metadata": {},
          "output_type": "display_data"
        },
        {
          "name": "stdout",
          "output_type": "stream",
          "text": [
            "\n",
            "Accuracy Results:\n",
            "max_depth=None: 0.9649\n",
            "max_depth=5: 0.9649\n",
            "max_depth=10: 0.9649\n",
            "max_depth=15: 0.9649\n",
            "max_depth=20: 0.9649\n",
            "max_depth=25: 0.9649\n"
          ]
        }
      ],
      "source": [
        "# Import necessary libraries\n",
        "from sklearn.datasets import load_breast_cancer\n",
        "from sklearn.model_selection import train_test_split\n",
        "from sklearn.ensemble import RandomForestClassifier\n",
        "from sklearn.metrics import accuracy_score\n",
        "import matplotlib.pyplot as plt\n",
        "\n",
        "# Load the Breast Cancer dataset\n",
        "breast_cancer = load_breast_cancer()\n",
        "X_train, X_test, y_train, y_test = train_test_split(breast_cancer.data, breast_cancer.target, test_size=0.2, random_state=42)\n",
        "\n",
        "# List of different max_depth values to try\n",
        "max_depth_list = [None, 5, 10, 15, 20, 25]\n",
        "\n",
        "# Dictionary to store accuracies for each max_depth value\n",
        "accuracy_results = {}\n",
        "\n",
        "# Train and evaluate Random Forest Classifier for each max_depth value\n",
        "for max_depth in max_depth_list:\n",
        "    model = RandomForestClassifier(n_estimators=100, max_depth=max_depth, random_state=42)\n",
        "    model.fit(X_train, y_train)\n",
        "    y_pred = model.predict(X_test)\n",
        "    accuracy = accuracy_score(y_test, y_pred)\n",
        "    accuracy_results[max_depth] = accuracy\n",
        "    print(f\"Accuracy with max_depth={max_depth}: {accuracy:.4f}\")\n",
        "\n",
        "# Plot the effect of max_depth on accuracy\n",
        "plt.figure(figsize=(10, 6))\n",
        "plt.plot(max_depth_list, list(accuracy_results.values()), marker='o')\n",
        "plt.xlabel(\"max_depth\")\n",
        "plt.ylabel(\"Accuracy\")\n",
        "plt.title(\"Effect of max_depth on Accuracy\")\n",
        "plt.grid(True)\n",
        "plt.show()\n",
        "\n",
        "# Print accuracy results\n",
        "print(\"\\nAccuracy Results:\")\n",
        "for max_depth, accuracy in accuracy_results.items():\n",
        "    print(f\"max_depth={max_depth}: {accuracy:.4f}\")\n"
      ]
    },
    {
      "cell_type": "code",
      "execution_count": null,
      "id": "32a21736-15ac-4fc3-89e0-69e8da0b1d96",
      "metadata": {
        "id": "32a21736-15ac-4fc3-89e0-69e8da0b1d96"
      },
      "outputs": [],
      "source": [
        "#Q40 Train a Bagging Regressor using different base estimators (DecisionTree and KNeighbors) and compare performance"
      ]
    },
    {
      "cell_type": "code",
      "execution_count": null,
      "id": "1d721753-ad22-41d3-a00a-f71efe8311e0",
      "metadata": {
        "id": "1d721753-ad22-41d3-a00a-f71efe8311e0",
        "outputId": "3f8fb6c6-9e98-4855-ed62-e4e2a67b660b"
      },
      "outputs": [
        {
          "name": "stdout",
          "output_type": "stream",
          "text": [
            "MSE of Bagging Regressor with Decision Tree: 0.2573\n",
            "MSE of Bagging Regressor with KNeighbors: 1.0763\n",
            "\n",
            "MSE Results:\n",
            "DecisionTree base estimator: 0.2573\n",
            "KNeighbors base estimator: 1.0763\n"
          ]
        }
      ],
      "source": [
        "# Import necessary libraries\n",
        "from sklearn.tree import DecisionTreeRegressor\n",
        "from sklearn.neighbors import KNeighborsRegressor\n",
        "from sklearn.ensemble import BaggingRegressor\n",
        "from sklearn.datasets import fetch_california_housing\n",
        "from sklearn.model_selection import train_test_split\n",
        "from sklearn.metrics import mean_squared_error\n",
        "\n",
        "# Load the California Housing dataset\n",
        "data = fetch_california_housing()\n",
        "X_train, X_test, y_train, y_test = train_test_split(data.data, data.target, test_size=0.2, random_state=42)\n",
        "\n",
        "# Dictionary to store MSE for each base estimator\n",
        "mse_results = {}\n",
        "\n",
        "# Train and evaluate Bagging Regressor using Decision Tree as base estimator\n",
        "dt_model = BaggingRegressor(estimator=DecisionTreeRegressor(), n_estimators=50, random_state=42)\n",
        "dt_model.fit(X_train, y_train)\n",
        "y_pred_dt = dt_model.predict(X_test)\n",
        "mse_dt = mean_squared_error(y_test, y_pred_dt)\n",
        "mse_results['DecisionTree'] = mse_dt\n",
        "print(f\"MSE of Bagging Regressor with Decision Tree: {mse_dt:.4f}\")\n",
        "\n",
        "# Train and evaluate Bagging Regressor using KNeighbors as base estimator\n",
        "knn_model = BaggingRegressor(estimator=KNeighborsRegressor(), n_estimators=50, random_state=42)\n",
        "knn_model.fit(X_train, y_train)\n",
        "y_pred_knn = knn_model.predict(X_test)\n",
        "mse_knn = mean_squared_error(y_test, y_pred_knn)\n",
        "mse_results['KNeighbors'] = mse_knn\n",
        "print(f\"MSE of Bagging Regressor with KNeighbors: {mse_knn:.4f}\")\n",
        "\n",
        "# Print MSE results\n",
        "print(\"\\nMSE Results:\")\n",
        "for estimator, mse in mse_results.items():\n",
        "    print(f\"{estimator} base estimator: {mse:.4f}\")\n"
      ]
    },
    {
      "cell_type": "code",
      "execution_count": null,
      "id": "ac98c74b-93bb-4f9d-aa67-7de523e4e6c2",
      "metadata": {
        "id": "ac98c74b-93bb-4f9d-aa67-7de523e4e6c2"
      },
      "outputs": [],
      "source": [
        "#Q41 Train a Random Forest Classifier and evaluate its performance using ROC-AUC Score"
      ]
    },
    {
      "cell_type": "code",
      "execution_count": null,
      "id": "d3ce2d7c-721a-46c9-bfd5-9dca8492d95c",
      "metadata": {
        "id": "d3ce2d7c-721a-46c9-bfd5-9dca8492d95c",
        "outputId": "82c74701-33ad-492a-8bd9-b0a6041621dc"
      },
      "outputs": [
        {
          "name": "stdout",
          "output_type": "stream",
          "text": [
            "ROC-AUC Score of Random Forest Classifier: 0.9952505732066819\n"
          ]
        },
        {
          "data": {
            "image/png": "[encoded data removed]",
            "text/plain": [
              "<Figure size 1000x600 with 1 Axes>"
            ]
          },
          "metadata": {},
          "output_type": "display_data"
        }
      ],
      "source": [
        "from sklearn.datasets import load_breast_cancer\n",
        "from sklearn.model_selection import train_test_split\n",
        "from sklearn.ensemble import RandomForestClassifier\n",
        "from sklearn.metrics import roc_auc_score, roc_curve\n",
        "import matplotlib.pyplot as plt\n",
        "\n",
        "# Load the Breast Cancer dataset\n",
        "breast_cancer = load_breast_cancer()\n",
        "X_train, X_test, y_train, y_test = train_test_split(breast_cancer.data, breast_cancer.target, test_size=0.2, random_state=42)\n",
        "\n",
        "# Train a Random Forest Classifier\n",
        "model = RandomForestClassifier(n_estimators=100, random_state=42)\n",
        "model.fit(X_train, y_train)\n",
        "\n",
        "# Predict probabilities of the positive class\n",
        "y_pred_proba = model.predict_proba(X_test)[:, 1]\n",
        "\n",
        "# Compute ROC-AUC score\n",
        "roc_auc = roc_auc_score(y_test, y_pred_proba)\n",
        "print(\"ROC-AUC Score of Random Forest Classifier:\", roc_auc)\n",
        "\n",
        "# Compute ROC curve\n",
        "fpr, tpr, thresholds = roc_curve(y_test, y_pred_proba)\n",
        "\n",
        "# Plot ROC curve\n",
        "plt.figure(figsize=(10, 6))\n",
        "plt.plot(fpr, tpr, label=f'Random Forest (AUC = {roc_auc:.2f})')\n",
        "plt.plot([0, 1], [0, 1], 'k--', label='Random Chance')\n",
        "plt.xlabel('False Positive Rate')\n",
        "plt.ylabel('True Positive Rate')\n",
        "plt.title('ROC Curve')\n",
        "plt.legend(loc='best')\n",
        "plt.grid(True)\n",
        "plt.show()\n"
      ]
    },
    {
      "cell_type": "code",
      "execution_count": null,
      "id": "64139802-54d5-4ba7-a46e-41e3b662e51d",
      "metadata": {
        "id": "64139802-54d5-4ba7-a46e-41e3b662e51d"
      },
      "outputs": [],
      "source": [
        "#Q42 Train a Bagging Classifier and evaluate its performance using cross-validation"
      ]
    },
    {
      "cell_type": "code",
      "execution_count": null,
      "id": "e432eae3-85bb-4600-afd1-fd72ebb59815",
      "metadata": {
        "id": "e432eae3-85bb-4600-afd1-fd72ebb59815",
        "outputId": "59903953-3633-4923-bad8-83664d015759"
      },
      "outputs": [
        {
          "name": "stdout",
          "output_type": "stream",
          "text": [
            "Cross-Validation Scores: [0.9122807  0.92105263 0.98245614 0.95614035 1.        ]\n",
            "Mean Cross-Validation Score: 0.9543859649122808\n"
          ]
        }
      ],
      "source": [
        "from sklearn.datasets import load_breast_cancer\n",
        "from sklearn.model_selection import cross_val_score\n",
        "from sklearn.ensemble import BaggingClassifier\n",
        "from sklearn.tree import DecisionTreeClassifier\n",
        "\n",
        "# Load the Breast Cancer dataset\n",
        "breast_cancer = load_breast_cancer()\n",
        "X, y = breast_cancer.data, breast_cancer.target\n",
        "\n",
        "# Train a Bagging Classifier using Decision Tree as base estimator\n",
        "bagging_classifier = BaggingClassifier(estimator=DecisionTreeClassifier(), n_estimators=50, random_state=42)\n",
        "\n",
        "# Evaluate performance using cross-validation\n",
        "cv_scores = cross_val_score(bagging_classifier, X, y, cv=5, scoring='accuracy')\n",
        "\n",
        "# Print the cross-validation scores and their mean\n",
        "print(\"Cross-Validation Scores:\", cv_scores)\n",
        "print(\"Mean Cross-Validation Score:\", cv_scores.mean())\n"
      ]
    },
    {
      "cell_type": "code",
      "execution_count": null,
      "id": "e6f50efe-1595-449b-ab3b-097a7fec8752",
      "metadata": {
        "id": "e6f50efe-1595-449b-ab3b-097a7fec8752"
      },
      "outputs": [],
      "source": [
        "#Q43 Train a Random Forest Classifier and plot the Precision-Recall curve"
      ]
    },
    {
      "cell_type": "code",
      "execution_count": null,
      "id": "0c58b75d-d1b8-4804-abf2-605b605107a8",
      "metadata": {
        "id": "0c58b75d-d1b8-4804-abf2-605b605107a8",
        "outputId": "a361e2f4-7aa7-4df8-8183-e98a1357eafa"
      },
      "outputs": [
        {
          "data": {
            "image/png": "[encoded data removed]",
            "text/plain": [
              "<Figure size 1000x600 with 1 Axes>"
            ]
          },
          "metadata": {},
          "output_type": "display_data"
        }
      ],
      "source": [
        "from sklearn.datasets import load_breast_cancer\n",
        "from sklearn.model_selection import train_test_split\n",
        "from sklearn.ensemble import RandomForestClassifier\n",
        "from sklearn.metrics import precision_recall_curve, auc\n",
        "import matplotlib.pyplot as plt\n",
        "\n",
        "# Load the Breast Cancer dataset\n",
        "breast_cancer = load_breast_cancer()\n",
        "X_train, X_test, y_train, y_test = train_test_split(breast_cancer.data, breast_cancer.target, test_size=0.2, random_state=42)\n",
        "\n",
        "# Train a Random Forest Classifier\n",
        "model = RandomForestClassifier(n_estimators=100, random_state=42)\n",
        "model.fit(X_train, y_train)\n",
        "\n",
        "# Predict probabilities of the positive class\n",
        "y_pred_proba = model.predict_proba(X_test)[:, 1]\n",
        "\n",
        "# Compute Precision-Recall curve\n",
        "precision, recall, thresholds = precision_recall_curve(y_test, y_pred_proba)\n",
        "pr_auc = auc(recall, precision)\n",
        "\n",
        "# Plot Precision-Recall curve\n",
        "plt.figure(figsize=(10, 6))\n",
        "plt.plot(recall, precision, label=f'Random Forest (AUC = {pr_auc:.2f})')\n",
        "plt.xlabel('Recall')\n",
        "plt.ylabel('Precision')\n",
        "plt.title('Precision-Recall Curve')\n",
        "plt.legend(loc='best')\n",
        "plt.grid(True)\n",
        "plt.show()\n"
      ]
    },
    {
      "cell_type": "code",
      "execution_count": null,
      "id": "919f3658-c2d1-4e71-8c4d-92b476c32a89",
      "metadata": {
        "id": "919f3658-c2d1-4e71-8c4d-92b476c32a89"
      },
      "outputs": [],
      "source": [
        "#Q44 Train a Stacking Classifier with Random Forest and Logistic Regression and compare accuracy"
      ]
    },
    {
      "cell_type": "code",
      "execution_count": null,
      "id": "4e3fa3de-168f-4b7f-ac0c-f780feea9f78",
      "metadata": {
        "id": "4e3fa3de-168f-4b7f-ac0c-f780feea9f78",
        "outputId": "db289cd7-a589-4b39-b280-0aa797fa948c"
      },
      "outputs": [
        {
          "name": "stdout",
          "output_type": "stream",
          "text": [
            "Accuracy of Stacking Classifier: 0.9649122807017544\n",
            "Accuracy of Random Forest Classifier: 0.9649122807017544\n",
            "Accuracy of Logistic Regression Classifier: 0.956140350877193\n",
            "Accuracy of Stacking Classifier: 0.9649\n",
            "Accuracy of Random Forest Classifier: 0.9649\n",
            "Accuracy of Logistic Regression Classifier: 0.9561\n"
          ]
        }
      ],
      "source": [
        "from sklearn.datasets import load_breast_cancer\n",
        "from sklearn.model_selection import train_test_split\n",
        "from sklearn.ensemble import StackingClassifier, RandomForestClassifier\n",
        "from sklearn.linear_model import LogisticRegression\n",
        "from sklearn.metrics import accuracy_score\n",
        "\n",
        "# Load the Breast Cancer dataset\n",
        "breast_cancer = load_breast_cancer()\n",
        "X_train, X_test, y_train, y_test = train_test_split(breast_cancer.data, breast_cancer.target, test_size=0.2, random_state=42)\n",
        "\n",
        "# Define base estimators\n",
        "estimators = [\n",
        "    ('random_forest', RandomForestClassifier(n_estimators=100, random_state=42)),\n",
        "    ('logistic_regression', LogisticRegression(max_iter=10000))\n",
        "]\n",
        "\n",
        "# Define the Stacking Classifier\n",
        "stacking_classifier = StackingClassifier(estimators=estimators, final_estimator=LogisticRegression())\n",
        "\n",
        "# Train the Stacking Classifier\n",
        "stacking_classifier.fit(X_train, y_train)\n",
        "\n",
        "# Predict and evaluate the Stacking Classifier\n",
        "y_pred_stacking = stacking_classifier.predict(X_test)\n",
        "accuracy_stacking = accuracy_score(y_test, y_pred_stacking)\n",
        "print(\"Accuracy of Stacking Classifier:\", accuracy_stacking)\n",
        "\n",
        "# Train and evaluate individual classifiers for comparison\n",
        "# Random Forest\n",
        "rf_classifier = RandomForestClassifier(n_estimators=100, random_state=42)\n",
        "rf_classifier.fit(X_train, y_train)\n",
        "y_pred_rf = rf_classifier.predict(X_test)\n",
        "accuracy_rf = accuracy_score(y_test, y_pred_rf)\n",
        "print(\"Accuracy of Random Forest Classifier:\", accuracy_rf)\n",
        "\n",
        "# Logistic Regression\n",
        "lr_classifier = LogisticRegression(max_iter=10000)\n",
        "lr_classifier.fit(X_train, y_train)\n",
        "y_pred_lr = lr_classifier.predict(X_test)\n",
        "accuracy_lr = accuracy_score(y_test, y_pred_lr)\n",
        "print(\"Accuracy of Logistic Regression Classifier:\", accuracy_lr)\n",
        "\n",
        "# Compare the accuracies\n",
        "print(f\"Accuracy of Stacking Classifier: {accuracy_stacking:.4f}\")\n",
        "print(f\"Accuracy of Random Forest Classifier: {accuracy_rf:.4f}\")\n",
        "print(f\"Accuracy of Logistic Regression Classifier: {accuracy_lr:.4f}\")\n"
      ]
    },
    {
      "cell_type": "code",
      "execution_count": 1,
      "id": "f681deb4-6221-4cf4-a446-bd591db91725",
      "metadata": {
        "id": "f681deb4-6221-4cf4-a446-bd591db91725"
      },
      "outputs": [],
      "source": [
        "#Q45.  Train a Bagging Regressor with different levels of bootstrap samples and compare performance."
      ]
    },
    {
      "cell_type": "code",
      "source": [
        "import numpy as np\n",
        "import matplotlib.pyplot as plt\n",
        "from sklearn.datasets import fetch_california_housing\n",
        "from sklearn.model_selection import train_test_split\n",
        "from sklearn.ensemble import BaggingRegressor\n",
        "from sklearn.tree import DecisionTreeRegressor\n",
        "from sklearn.preprocessing import StandardScaler\n",
        "from sklearn.metrics import mean_squared_error\n",
        "\n",
        "# Load the California Housing dataset\n",
        "housing = fetch_california_housing()\n",
        "X, y = housing.data, housing.target\n",
        "\n",
        "# Split into training (80%) and testing (20%) sets\n",
        "X_train, X_test, y_train, y_test = train_test_split(X, y, test_size=0.2, random_state=42)\n",
        "\n",
        "# Feature Scaling\n",
        "scaler = StandardScaler()\n",
        "X_train = scaler.fit_transform(X_train)\n",
        "X_test = scaler.transform(X_test)\n",
        "\n",
        "# Different bootstrap sample sizes\n",
        "bootstrap_sizes = [0.5, 0.7, 1.0]\n",
        "mse_scores = []\n",
        "\n",
        "# Train and evaluate Bagging Regressor with different bootstrap samples\n",
        "for size in bootstrap_sizes:\n",
        "    bagging_model = BaggingRegressor(\n",
        "        base_estimator=DecisionTreeRegressor(),\n",
        "        n_estimators=50,\n",
        "        max_samples=size,\n",
        "        bootstrap=True,\n",
        "        random_state=42\n",
        "    )\n",
        "\n",
        "    bagging_model.fit(X_train, y_train)\n",
        "    y_pred = bagging_model.predict(X_test)\n",
        "\n",
        "    mse = mean_squared_error(y_test, y_pred)\n",
        "    mse_scores.append(mse)\n",
        "    print(f\"Bootstrap Sample Size: {size}, MSE: {mse:.4f}\")\n",
        "\n",
        "# Plot performance comparison\n",
        "plt.figure(figsize=(6, 4))\n",
        "plt.plot(bootstrap_sizes, mse_scores, marker='o', linestyle='-', color='blue')\n",
        "plt.xlabel(\"Bootstrap Sample Size\")\n",
        "plt.ylabel(\"Mean Squared Error (MSE)\")\n",
        "plt.title(\"Bagging Regressor Performance with Different Bootstrap Sizes\")\n",
        "plt.grid()\n",
        "plt.show()\n"
      ],
      "metadata": {
        "id": "5CF9KUgNR7fP"
      },
      "id": "5CF9KUgNR7fP",
      "execution_count": null,
      "outputs": []
    }
  ],
  "metadata": {
    "kernelspec": {
      "display_name": "Python 3 (ipykernel)",
      "language": "python",
      "name": "python3"
    },
    "language_info": {
      "codemirror_mode": {
        "name": "ipython",
        "version": 3
      },
      "file_extension": ".py",
      "mimetype": "text/x-python",
      "name": "python",
      "nbconvert_exporter": "python",
      "pygments_lexer": "ipython3",
      "version": "3.12.5"
    },
    "colab": {
      "provenance": []
    }
  },
  "nbformat": 4,
  "nbformat_minor": 5
}